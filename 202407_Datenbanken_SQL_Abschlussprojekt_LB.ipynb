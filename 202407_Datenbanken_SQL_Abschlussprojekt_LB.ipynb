{
 "cells": [
  {
   "cell_type": "markdown",
   "metadata": {},
   "source": [
    "<br><br><center><h1 style=\"font-size:3em\">Praxisprojekt Datenbanken und SQL</h1></center>\n",
    "<center><h3>Projekt 3 - ToDo Liste - Anton, Lisa, Maik</b></center>"
   ]
  },
  {
   "cell_type": "markdown",
   "metadata": {},
   "source": [
    "### Standarteinstellungen"
   ]
  },
  {
   "cell_type": "code",
   "execution_count": 2,
   "metadata": {},
   "outputs": [],
   "source": [
    "# Importe\n",
    "import pandas as pd\n",
    "import psycopg                        \n",
    "import yaml                            \n",
    "\n",
    "import sqlalchemy as sa \n",
    "import datetime as dt  \n",
    "from sqlalchemy import text\n"
   ]
  },
  {
   "cell_type": "code",
   "execution_count": 3,
   "metadata": {},
   "outputs": [],
   "source": [
    "# Standart-config-Datei laden\n",
    "with open('..\\\\config.yaml', 'r') as file:\n",
    "    config = yaml.load(file, Loader=yaml.BaseLoader)\n",
    "\n",
    "# Connection-String\n",
    "connection_string = f'postgresql://{config['user']}:{config['password']}@{config['host']}:{config['port']}/' \n",
    "\n",
    "# Verbindungen aufbauen\n",
    "sa_eng = sa.create_engine(connection_string, \n",
    "                          isolation_level='AUTOCOMMIT')\n"
   ]
  },
  {
   "cell_type": "code",
   "execution_count": 5,
   "metadata": {},
   "outputs": [],
   "source": [
    "# Datenbank todo erstellen\n",
    "with sa_eng.connect() as con:            \n",
    "    con.execute(text('''CREATE DATABASE todo'''))"
   ]
  },
  {
   "cell_type": "code",
   "execution_count": 6,
   "metadata": {},
   "outputs": [],
   "source": [
    "# Neue Verbindung zur Datenbank erstellen\n",
    "\n",
    "# alte Verbindung trennen\n",
    "sa_eng.dispose()\n",
    "\n",
    "# Verbindung zur todo-Datenbank erstellen\n",
    "\n",
    "con_string_todo = f'postgresql://{config['user']}:{config['password']}@{config['host']}:{config['port']}/todo'\n",
    "\n",
    "# Verbindungen aufbauen\n",
    "sa_eng = sa.create_engine(con_string_todo, \n",
    "                          isolation_level='AUTOCOMMIT')\n",
    "\n"
   ]
  },
  {
   "cell_type": "markdown",
   "metadata": {},
   "source": [
    "### Tabellen erstellen und definieren"
   ]
  },
  {
   "cell_type": "code",
   "execution_count": 9,
   "metadata": {},
   "outputs": [],
   "source": [
    "# TABELLE - PROJEKTE\n",
    "# projekt_id serial PRIMARY KEY,\n",
    "# projekt_name text NOT NULL,\n",
    "# beschreibung text,\n",
    "# startdatum date NOT NULL\n",
    "# enddatum date NOT NULL\n",
    "\n",
    "with sa_eng.connect() as con:            \n",
    "    con.execute(text('''\n",
    "                    CREATE TABLE projekte(\n",
    "                        projekt_id SERIAL PRIMARY KEY,\n",
    "                        projekt_name TEXT NOT NULL,\n",
    "                        beschreibung TEXT,\n",
    "                        startdatum DATE NOT NULL,\n",
    "                        enddatum DATE NOT NULL);\n",
    "                     '''))\n",
    "\n",
    "# TABELLE - TEAM\n",
    "# mitarbeiter_id PRIMARY KEY\n",
    "# vorname\n",
    "# nachname\n",
    "# rolle (projektleitung, entwicklung, design,...)\n",
    "# email\n",
    "\n",
    "with sa_eng.connect() as con:            \n",
    "    con.execute(text('''\n",
    "        CREATE TABLE team(\n",
    "            mitarbeiter_id SERIAL PRIMARY KEY,\n",
    "            vorname TEXT NOT NULL,\n",
    "            nachname TEXT NOT NULL,\n",
    "            rolle TEXT,\n",
    "            email TEXT NOT NULL\n",
    "        );\n",
    "    '''))\n",
    "\n",
    "# TABELLE - AUFGABEN\n",
    "# aufgaben_id int PRIMARY KEY\n",
    "# aufgaben_name\n",
    "# projekt_id int FOREIGN KEY\n",
    "# aufgaben_beschreibung text\n",
    "# mitarbeiter_id FOREIGN KEY\n",
    "# status text\n",
    "\n",
    "with sa_eng.connect() as con:            \n",
    "    con.execute(text('''\n",
    "        CREATE TABLE aufgaben(\n",
    "            aufgaben_id SERIAL PRIMARY KEY,\n",
    "            aufgaben_name TEXT NOT NULL,\n",
    "            projekt_id INT,\n",
    "            aufgaben_beschreibung TEXT,\n",
    "            mitarbeiter_id INT,\n",
    "            status TEXT,\n",
    "            FOREIGN KEY (projekt_id) REFERENCES projekte(projekt_id),\n",
    "            FOREIGN KEY (mitarbeiter_id) REFERENCES team(mitarbeiter_id)\n",
    "        );\n",
    "    '''))"
   ]
  },
  {
   "cell_type": "markdown",
   "metadata": {},
   "source": [
    "### Funktionen und Trigger"
   ]
  }
 ],
 "metadata": {
  "kernelspec": {
   "display_name": "DataCraft",
   "language": "python",
   "name": "python3"
  },
  "language_info": {
   "codemirror_mode": {
    "name": "ipython",
    "version": 3
   },
   "file_extension": ".py",
   "mimetype": "text/x-python",
   "name": "python",
   "nbconvert_exporter": "python",
   "pygments_lexer": "ipython3",
   "version": "3.12.3"
  }
 },
 "nbformat": 4,
 "nbformat_minor": 2
}
