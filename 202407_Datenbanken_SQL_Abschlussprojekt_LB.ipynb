{
 "cells": [
  {
   "cell_type": "markdown",
   "metadata": {},
   "source": [
    "<br><br><center><h1 style=\"font-size:3em\">Praxisprojekt Datenbanken und SQL</h1></center>\n",
    "<center><h3>Projekt 3 - ToDo Liste - Anton, Lisa, Maik</b></center>"
   ]
  },
  {
   "cell_type": "markdown",
   "metadata": {},
   "source": [
    "### Standarteinstellungen"
   ]
  },
  {
   "cell_type": "code",
   "execution_count": 1,
   "metadata": {},
   "outputs": [],
   "source": [
    "# Importe\n",
    "import pandas as pd\n",
    "import psycopg                        \n",
    "import yaml                            \n",
    "\n",
    "import sqlalchemy as sa \n",
    "import datetime as dt  \n",
    "from sqlalchemy import text\n"
   ]
  },
  {
   "cell_type": "code",
   "execution_count": 4,
   "metadata": {},
   "outputs": [],
   "source": [
    "# Standart-config-Datei laden\n",
    "with open('..\\\\config.yaml', 'r') as file:\n",
    "    config = yaml.load(file, Loader=yaml.BaseLoader)\n",
    "\n",
    "# Connection-String\n",
    "connection_string = f'postgresql://{config['user']}:{config['password']}@{config['host']}:{config['port']}/' \n",
    "\n",
    "# Verbindungen aufbauen\n",
    "sa_eng = sa.create_engine(connection_string, \n",
    "                          isolation_level='AUTOCOMMIT')\n"
   ]
  },
  {
   "cell_type": "code",
   "execution_count": 5,
   "metadata": {},
   "outputs": [],
   "source": [
    "# Datenbank todo erstellen\n",
    "with sa_eng.connect() as con:            \n",
    "    con.execute(text('''CREATE DATABASE todo'''))"
   ]
  },
  {
   "cell_type": "code",
   "execution_count": 5,
   "metadata": {},
   "outputs": [],
   "source": [
    "# Neue Verbindung zur Datenbank erstellen\n",
    "\n",
    "# alte Verbindung trennen\n",
    "sa_eng.dispose()\n",
    "\n",
    "# Verbindung zur todo-Datenbank erstellen\n",
    "\n",
    "con_string_todo = f'postgresql://{config['user']}:{config['password']}@{config['host']}:{config['port']}/todo'\n",
    "\n",
    "# Verbindungen aufbauen\n",
    "sa_eng = sa.create_engine(con_string_todo, \n",
    "                          isolation_level='AUTOCOMMIT')\n",
    "\n"
   ]
  },
  {
   "cell_type": "markdown",
   "metadata": {},
   "source": [
    "### Tabellen erstellen und definieren"
   ]
  },
  {
   "cell_type": "code",
   "execution_count": 9,
   "metadata": {},
   "outputs": [],
   "source": [
    "# TABELLE - PROJEKTE\n",
    "# projekt_id serial PRIMARY KEY,\n",
    "# projekt_name text NOT NULL,\n",
    "# beschreibung text,\n",
    "# startdatum date NOT NULL\n",
    "# enddatum date NOT NULL\n",
    "\n",
    "with sa_eng.connect() as con:            \n",
    "    con.execute(text('''\n",
    "                    CREATE TABLE projekte(\n",
    "                        projekt_id SERIAL PRIMARY KEY,\n",
    "                        projekt_name TEXT NOT NULL,\n",
    "                        beschreibung TEXT,\n",
    "                        startdatum DATE NOT NULL,\n",
    "                        enddatum DATE NOT NULL);\n",
    "                     '''))\n",
    "\n",
    "# TABELLE - TEAM\n",
    "# mitarbeiter_id PRIMARY KEY\n",
    "# vorname\n",
    "# nachname\n",
    "# rolle (projektleitung, entwicklung, design,...)\n",
    "# email\n",
    "\n",
    "with sa_eng.connect() as con:            \n",
    "    con.execute(text('''\n",
    "        CREATE TABLE team(\n",
    "            mitarbeiter_id SERIAL PRIMARY KEY,\n",
    "            vorname TEXT NOT NULL,\n",
    "            nachname TEXT NOT NULL,\n",
    "            rolle TEXT,\n",
    "            email TEXT NOT NULL\n",
    "        );\n",
    "    '''))\n",
    "\n",
    "# TABELLE - AUFGABEN\n",
    "# aufgaben_id int PRIMARY KEY\n",
    "# aufgaben_name\n",
    "# projekt_id int FOREIGN KEY\n",
    "# aufgaben_beschreibung text\n",
    "# mitarbeiter_id FOREIGN KEY\n",
    "# status text\n",
    "\n",
    "with sa_eng.connect() as con:            \n",
    "    con.execute(text('''\n",
    "        CREATE TABLE aufgaben(\n",
    "            aufgaben_id SERIAL PRIMARY KEY,\n",
    "            aufgaben_name TEXT NOT NULL,\n",
    "            projekt_id INT,\n",
    "            aufgaben_beschreibung TEXT,\n",
    "            mitarbeiter_id INT,\n",
    "            status TEXT,\n",
    "            FOREIGN KEY (projekt_id) REFERENCES projekte(projekt_id),\n",
    "            FOREIGN KEY (mitarbeiter_id) REFERENCES team(mitarbeiter_id)\n",
    "        );\n",
    "    '''))"
   ]
  },
  {
   "cell_type": "markdown",
   "metadata": {},
   "source": [
    "### Klassen und Funktionen"
   ]
  },
  {
   "cell_type": "code",
   "execution_count": null,
   "metadata": {},
   "outputs": [],
   "source": []
  },
  {
   "cell_type": "markdown",
   "metadata": {},
   "source": [
    "### Trigger und Log-Tabelle"
   ]
  },
  {
   "cell_type": "code",
   "execution_count": null,
   "metadata": {},
   "outputs": [],
   "source": []
  },
  {
   "cell_type": "markdown",
   "metadata": {},
   "source": [
    "### Beispiel-Daten in Tabellen einfügen"
   ]
  },
  {
   "cell_type": "code",
   "execution_count": 15,
   "metadata": {},
   "outputs": [],
   "source": [
    "# BEISPIELDATEN Tabelle PROJEKTE\n",
    "\n",
    "projekt_1 = ('Northwind Datenanalyse', \n",
    "                        'Verbesserung der Datenverarbeitung und -auswertung für Northwind Traders mithilfe einer SQL-Datenbank.',\n",
    "                        '2024-01-01', '2024-02-15')\n",
    "                    \n",
    "projekt_2 = ('Leihräder-Analyse', \n",
    "            'Umfassende Datenanalyse der Leihräder-Nutzung in San Francisco.',\n",
    "            '2024-02-01', '2024-06-30')\n",
    "\n",
    "projekt_3 = ('ToDo-Liste', \n",
    "            'Entwicklung einer ToDo-Listen Anwendung in Python mit SQL-Datenbankverknüpfung.',\n",
    "            '2024-03-01', '2024-05-31')\n",
    "             \n",
    "projekt_4 = ('FIFA Fußball', \n",
    "            'Datenanalyse aller professionellen, europäischen Fußballspiele von 2008 bis 2016.',\n",
    "            '2024-04-01', '2024-09-30')"
   ]
  },
  {
   "cell_type": "code",
   "execution_count": 12,
   "metadata": {},
   "outputs": [],
   "source": [
    "# BEISPIELDATEN Tabelle TEAM\n",
    "\n",
    "team_1 = 'Sarah', 'Müller', 'Projektleiterin', 'sarah.mueller@firma.de'\n",
    "\n",
    "team_2 = 'Johannes', 'Schmidt', 'Datenanalyst', 'johannes.schmidt@firma.de'\n",
    "\n",
    "team_3 = 'Derya', 'Toptas', 'Datenwissenschaftler', 'derya.toptas@firma.de'\n",
    "\n",
    "team_4 = 'Julian', 'Schneider', 'Dateningenieur', 'julian.schneider@firma.de'\n",
    "\n",
    "team_5 = 'Laura', 'Fischer', 'Business-Analystin', 'laura.fischer@firma.de'"
   ]
  },
  {
   "cell_type": "code",
   "execution_count": 13,
   "metadata": {},
   "outputs": [],
   "source": [
    "# BEISPIELDATEN Tabelle AUFGABEN\n",
    "\n",
    "aufgabe_1 = ('Northwind DB Aufbau', \n",
    "            'Erstellung und Verwaltung der SQL-Datenbank für Northwind.',\n",
    "            4, 'In Bearbeitung')\n",
    "\n",
    "aufgabe_2 = ('Northwind Analyse', \n",
    "            'Durchführung der Datenanalyse und Beantwortung der Fragen.',\n",
    "            2, 'In Bearbeitung')\n",
    "\n",
    "aufgabe_3 = ('Leihräder DB Aufbau', \n",
    "                        'Import der Leihräder-Daten in die PostgreSQL-Datenbank und Einrichtung von Schlüsseln.',\n",
    "                        4, 'In Bearbeitung')\n",
    "aufgabe_4 = ('Leihräder Analyse', \n",
    "                        'Analyse der Leihräder-Daten und Erstellung von Berichten.',\n",
    "                        2, 'In Bearbeitung')\n",
    "\n",
    "aufgabe_5 = ('ToDo-Liste Entwicklung', \n",
    "                        'Entwicklung der ToDo-Listen Anwendung in Python und Verknüpfung mit SQL-Datenbank.',\n",
    "                        3, 'In Bearbeitung')\n",
    "             \n",
    "aufgabe_6 = ('ToDo-Liste Interface', \n",
    "                        'Entwicklung eines Interfaces zur Bedienung der ToDo-Listen Anwendung.',\n",
    "                        3, 'Offen')\n",
    "            \n",
    "aufgabe_7 = ('FIFA DB Aufbau', \n",
    "                        'Übertragung des FIFA-Datensatzes in eine neue PostgreSQL-Datenbank.',\n",
    "                        4, 'Offen')\n",
    "\n",
    "aufgabe_8 = ('FIFA Analyse', \n",
    "                        'Durchführung der Datenanalyse und Beantwortung der Fragen.',\n",
    "                        2, 'Offen')\n",
    "             \n",
    "aufgabe_9 = ('Ergebnispräsentation', \n",
    "                        'Erstellung von Präsentationen zur Vorstellung der Analyseergebnisse.',\n",
    "                        5, 'Offen')"
   ]
  },
  {
   "cell_type": "markdown",
   "metadata": {},
   "source": []
  }
 ],
 "metadata": {
  "kernelspec": {
   "display_name": "DataCraft",
   "language": "python",
   "name": "python3"
  },
  "language_info": {
   "codemirror_mode": {
    "name": "ipython",
    "version": 3
   },
   "file_extension": ".py",
   "mimetype": "text/x-python",
   "name": "python",
   "nbconvert_exporter": "python",
   "pygments_lexer": "ipython3",
   "version": "3.12.3"
  }
 },
 "nbformat": 4,
 "nbformat_minor": 2
}
