{
 "cells": [
  {
   "cell_type": "code",
   "execution_count": 1,
   "metadata": {},
   "outputs": [],
   "source": [
    "import pandas as pd\n",
    "import psycopg\n",
    "\n",
    "\n",
    "\n",
    "class Projekt:\n",
    "    def __init__(self, projekt_id, projekt_name, beschreibung, startdatum, enddatum):\n",
    "        self.projekt_id = projekt_id\n",
    "        self.projekt_name = projekt_name\n",
    "        self.beschreibung = beschreibung\n",
    "        self.startdatum = startdatum\n",
    "        self.enddatum = enddatum\n",
    "    \n",
    "    def insert(self, cursor):\n",
    "        sql = '''INSERT INTO projekte (projekt_name, beschreibung, startdatum, enddatum)\n",
    "                 VALUES (?, ?, ?, ?)'''\n",
    "        values = (self.projekt_name, self.beschreibung, self.startdatum, self.enddatum)\n",
    "        cursor.execute(sql, values)\n",
    "\n",
    "    def update(self, cursor):\n",
    "        sql = '''UPDATE projekte \n",
    "                 SET projekt_name = ?, beschreibung = ?, startdatum = ?, enddatum = ?\n",
    "                 WHERE projekt_id = ?'''\n",
    "        values = (self.projekt_name, self.beschreibung, self.startdatum, self.enddatum, self.projekt_id)\n",
    "        cursor.execute(sql, values)\n",
    "\n",
    "    def delete(self, cursor):\n",
    "        sql = '''DELETE FROM projekte WHERE projekt_id = ?'''\n",
    "        values = (self.projekt_id,)\n",
    "        cursor.execute(sql, values)\n"
   ]
  }
 ],
 "metadata": {
  "kernelspec": {
   "display_name": "base",
   "language": "python",
   "name": "python3"
  },
  "language_info": {
   "codemirror_mode": {
    "name": "ipython",
    "version": 3
   },
   "file_extension": ".py",
   "mimetype": "text/x-python",
   "name": "python",
   "nbconvert_exporter": "python",
   "pygments_lexer": "ipython3",
   "version": "3.8.19"
  }
 },
 "nbformat": 4,
 "nbformat_minor": 2
}
